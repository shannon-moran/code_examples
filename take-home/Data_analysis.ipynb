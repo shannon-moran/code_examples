{
 "cells": [
  {
   "cell_type": "markdown",
   "metadata": {},
   "source": [
    "# Appendix D: Data analysis for presentation\n",
    "Our goal at Airbnb is to increase bookings. Therefore, we will consider the \"guest host matching process\" a success if it increases the conversion of guest-host contact to bookings. It is a failure if a contact does not turn into a booking."
   ]
  },
  {
   "cell_type": "code",
   "execution_count": 1,
   "metadata": {},
   "outputs": [],
   "source": [
    "# Auto-reloads external files any changes are automatically reflected\n",
    "%load_ext autoreload\n",
    "%autoreload 2\n",
    "\n",
    "# use this later to clean up output\n",
    "import  warnings\n",
    "warnings.simplefilter('ignore')\n",
    "\n",
    "import pandas as pd\n",
    "import numpy as np\n",
    "\n",
    "import matplotlib.pyplot as plt\n",
    "%matplotlib inline\n",
    "\n",
    "import seaborn as sns\n",
    "sns.set(style=\"whitegrid\")\n",
    "sns.set_palette('bright')\n",
    "\n",
    "SMALL_SIZE = 14\n",
    "MEDIUM_SIZE = 16\n",
    "BIGGER_SIZE = 22\n",
    "\n",
    "plt.rc('font', size=SMALL_SIZE)          # controls default text sizes\n",
    "plt.rc('axes', titlesize=SMALL_SIZE)     # fontsize of the axes title\n",
    "plt.rc('axes', labelsize=MEDIUM_SIZE)    # fontsize of the x and y labels\n",
    "plt.rc('xtick', labelsize=SMALL_SIZE)    # fontsize of the tick labels\n",
    "plt.rc('ytick', labelsize=SMALL_SIZE)    # fontsize of the tick labels\n",
    "plt.rc('legend', fontsize=SMALL_SIZE)    # legend fontsize\n",
    "plt.rc('figure', titlesize=BIGGER_SIZE)  # fontsize of the figure title\n",
    "\n",
    "# My own personal modules\n",
    "import data_cleaning\n",
    "import data_processing"
   ]
  },
  {
   "cell_type": "markdown",
   "metadata": {},
   "source": [
    "# Data loading, cleaning, and processing"
   ]
  },
  {
   "cell_type": "code",
   "execution_count": 2,
   "metadata": {
    "scrolled": true
   },
   "outputs": [],
   "source": [
    "contacts = pd.read_csv('./contacts.csv')\n",
    "listings = pd.read_csv('./listings.csv')\n",
    "users = pd.read_csv('./users.csv')"
   ]
  },
  {
   "cell_type": "code",
   "execution_count": 3,
   "metadata": {},
   "outputs": [],
   "source": [
    "data = data_cleaning.merge_data(contacts,listings,users)"
   ]
  },
  {
   "cell_type": "code",
   "execution_count": null,
   "metadata": {},
   "outputs": [],
   "source": [
    "data = data_processing.process_data(data)"
   ]
  },
  {
   "cell_type": "code",
   "execution_count": 5,
   "metadata": {},
   "outputs": [],
   "source": [
    "data.loc[data.holiday=='olympics','holiday_bin'] = 1\n",
    "data.loc[data.holiday=='carnival','holiday_bin'] = 1\n",
    "data.loc[data.holiday=='normal','holiday_bin'] = 0"
   ]
  },
  {
   "attachments": {},
   "cell_type": "markdown",
   "metadata": {},
   "source": [
    "# Analysis used in presentation\n",
    "\n",
    "Sections are labeled by the following numbers.\n",
    "0. The user path and booking outcomes\n",
    "1. User behavior with listings with/without instant booking\n",
    "2. Looking at inquiry conversion by host booking type (instant booking accepted or not)\n",
    "3. Behavior of guests messaging multiple hosts; number of messages and conversion\n",
    "4. Market activity (bookings and inquiries), holiday and non-holiday\n",
    "5. Holidays reduce host likeliness to accept bookings"
   ]
  },
  {
   "cell_type": "markdown",
   "metadata": {},
   "source": [
    "# 0. The user path and booking outcomes\n",
    "Our goal is to increase bookings on the platform. \n",
    "\n",
    "We can classify host and guest responses as follows:\n",
    "* host_ignore: Host does not respond to guest inquiry\n",
    "* host_denies: Host denies the reservation request\n",
    "* host_accepts: Host allows the customer to book\n",
    "* guest_books: Guest converts acceptance into booking\n",
    "* guest_ignores: Guest does not convert acceptance into booking\n",
    "* guest_denied: Guest was not approved to book\n",
    "\n",
    "We want to maximize the number of contacts that convert from inquiry > host_accepts > guest_books.\n",
    "\n",
    "(This would be a great target for a Sankey diagram, I just didn't want to futz with the visualization settings under a time crunch.)"
   ]
  },
  {
   "cell_type": "code",
   "execution_count": 6,
   "metadata": {},
   "outputs": [
    {
     "data": {
      "text/html": [
       "<div>\n",
       "<style scoped>\n",
       "    .dataframe tbody tr th:only-of-type {\n",
       "        vertical-align: middle;\n",
       "    }\n",
       "\n",
       "    .dataframe tbody tr th {\n",
       "        vertical-align: top;\n",
       "    }\n",
       "\n",
       "    .dataframe thead th {\n",
       "        text-align: right;\n",
       "    }\n",
       "</style>\n",
       "<table border=\"1\" class=\"dataframe\">\n",
       "  <thead>\n",
       "    <tr style=\"text-align: right;\">\n",
       "      <th></th>\n",
       "      <th></th>\n",
       "      <th>id_guest_anon</th>\n",
       "    </tr>\n",
       "    <tr>\n",
       "      <th>host_response</th>\n",
       "      <th>guest_response</th>\n",
       "      <th></th>\n",
       "    </tr>\n",
       "  </thead>\n",
       "  <tbody>\n",
       "    <tr>\n",
       "      <th rowspan=\"2\" valign=\"top\">host_accepts</th>\n",
       "      <th>guest_books</th>\n",
       "      <td>11185</td>\n",
       "    </tr>\n",
       "    <tr>\n",
       "      <th>guest_ignores</th>\n",
       "      <td>4379</td>\n",
       "    </tr>\n",
       "    <tr>\n",
       "      <th>host_denies</th>\n",
       "      <th>guest_denied</th>\n",
       "      <td>8919</td>\n",
       "    </tr>\n",
       "    <tr>\n",
       "      <th>host_ignores</th>\n",
       "      <th>guest_ignored</th>\n",
       "      <td>1969</td>\n",
       "    </tr>\n",
       "    <tr>\n",
       "      <th>All</th>\n",
       "      <th></th>\n",
       "      <td>26452</td>\n",
       "    </tr>\n",
       "  </tbody>\n",
       "</table>\n",
       "</div>"
      ],
      "text/plain": [
       "                              id_guest_anon\n",
       "host_response guest_response               \n",
       "host_accepts  guest_books             11185\n",
       "              guest_ignores            4379\n",
       "host_denies   guest_denied             8919\n",
       "host_ignores  guest_ignored            1969\n",
       "All                                   26452"
      ]
     },
     "execution_count": 6,
     "metadata": {},
     "output_type": "execute_result"
    }
   ],
   "source": [
    "pivot = data.pivot_table(\n",
    "                        index=['host_response','guest_response'],\n",
    "                        values=[\"id_guest_anon\"],\n",
    "                        aggfunc='count',\n",
    "                        margins=\"True\")\n",
    "pivot"
   ]
  },
  {
   "cell_type": "code",
   "execution_count": 7,
   "metadata": {},
   "outputs": [
    {
     "data": {
      "text/plain": [
       "contact_me      11964\n",
       "book_it          7998\n",
       "instant_book     6490\n",
       "Name: contact_channel_first, dtype: int64"
      ]
     },
     "execution_count": 7,
     "metadata": {},
     "output_type": "execute_result"
    }
   ],
   "source": [
    "data['contact_channel_first'].value_counts()"
   ]
  },
  {
   "cell_type": "code",
   "execution_count": 8,
   "metadata": {},
   "outputs": [
    {
     "data": {
      "text/html": [
       "<div>\n",
       "<style scoped>\n",
       "    .dataframe tbody tr th:only-of-type {\n",
       "        vertical-align: middle;\n",
       "    }\n",
       "\n",
       "    .dataframe tbody tr th {\n",
       "        vertical-align: top;\n",
       "    }\n",
       "\n",
       "    .dataframe thead th {\n",
       "        text-align: right;\n",
       "    }\n",
       "</style>\n",
       "<table border=\"1\" class=\"dataframe\">\n",
       "  <thead>\n",
       "    <tr style=\"text-align: right;\">\n",
       "      <th></th>\n",
       "      <th></th>\n",
       "      <th></th>\n",
       "      <th>id_guest_anon</th>\n",
       "    </tr>\n",
       "    <tr>\n",
       "      <th>contact_channel_first</th>\n",
       "      <th>host_response</th>\n",
       "      <th>guest_response</th>\n",
       "      <th></th>\n",
       "    </tr>\n",
       "  </thead>\n",
       "  <tbody>\n",
       "    <tr>\n",
       "      <th rowspan=\"4\" valign=\"top\">book_it</th>\n",
       "      <th rowspan=\"2\" valign=\"top\">host_accepts</th>\n",
       "      <th>guest_books</th>\n",
       "      <td>2756</td>\n",
       "    </tr>\n",
       "    <tr>\n",
       "      <th>guest_ignores</th>\n",
       "      <td>95</td>\n",
       "    </tr>\n",
       "    <tr>\n",
       "      <th>host_denies</th>\n",
       "      <th>guest_denied</th>\n",
       "      <td>1021</td>\n",
       "    </tr>\n",
       "    <tr>\n",
       "      <th>host_ignores</th>\n",
       "      <th>guest_ignored</th>\n",
       "      <td>271</td>\n",
       "    </tr>\n",
       "    <tr>\n",
       "      <th rowspan=\"4\" valign=\"top\">contact_me</th>\n",
       "      <th rowspan=\"2\" valign=\"top\">host_accepts</th>\n",
       "      <th>guest_books</th>\n",
       "      <td>531</td>\n",
       "    </tr>\n",
       "    <tr>\n",
       "      <th>guest_ignores</th>\n",
       "      <td>2164</td>\n",
       "    </tr>\n",
       "    <tr>\n",
       "      <th>host_denies</th>\n",
       "      <th>guest_denied</th>\n",
       "      <td>1789</td>\n",
       "    </tr>\n",
       "    <tr>\n",
       "      <th>host_ignores</th>\n",
       "      <th>guest_ignored</th>\n",
       "      <td>249</td>\n",
       "    </tr>\n",
       "    <tr>\n",
       "      <th>instant_book</th>\n",
       "      <th>host_accepts</th>\n",
       "      <th>guest_books</th>\n",
       "      <td>4559</td>\n",
       "    </tr>\n",
       "    <tr>\n",
       "      <th>All</th>\n",
       "      <th></th>\n",
       "      <th></th>\n",
       "      <td>13435</td>\n",
       "    </tr>\n",
       "  </tbody>\n",
       "</table>\n",
       "</div>"
      ],
      "text/plain": [
       "                                                    id_guest_anon\n",
       "contact_channel_first host_response guest_response               \n",
       "book_it               host_accepts  guest_books              2756\n",
       "                                    guest_ignores              95\n",
       "                      host_denies   guest_denied             1021\n",
       "                      host_ignores  guest_ignored             271\n",
       "contact_me            host_accepts  guest_books               531\n",
       "                                    guest_ignores            2164\n",
       "                      host_denies   guest_denied             1789\n",
       "                      host_ignores  guest_ignored             249\n",
       "instant_book          host_accepts  guest_books              4559\n",
       "All                                                         13435"
      ]
     },
     "execution_count": 8,
     "metadata": {},
     "output_type": "execute_result"
    }
   ],
   "source": [
    "pivot = data[data.holiday=='normal'].pivot_table(\n",
    "    index=['contact_channel_first','host_response','guest_response'],\n",
    "                        values=[\"id_guest_anon\"],\n",
    "                        aggfunc='count',\n",
    "                        margins=\"True\")\n",
    "pivot"
   ]
  },
  {
   "cell_type": "markdown",
   "metadata": {},
   "source": [
    "Holy moly. We have a problem here!\n",
    "* For `book_it`, only a little over half of initial messages (which have deposits with them!) convert to bookings\n",
    "* For `contact_me`, hosts are ignoring or denying most requests, and guests rarely book\n",
    "* For `instant_books`, all messages immediately move through the pipeline\n",
    "\n",
    "Overall, less than half of all inquiries turn into bookings-- this is not great conversion!\n",
    "\n",
    "Since these are users who are already invested in the platform, and in some cases have already made a deposit, there should theoretically be a very low activation barrier to convert them from message to booking.\n",
    "\n",
    "This raises several questions.\n",
    "* Why is `contact_me` so bad? Are users just using it to ask questions?\n",
    "* Why are hosts denying so many guests?\n",
    "* Is there any time dependence?\n",
    "* Are users who do not book just booking somewhere else?"
   ]
  },
  {
   "cell_type": "markdown",
   "metadata": {},
   "source": [
    "Let's see if this conversion rate changes with time."
   ]
  },
  {
   "cell_type": "code",
   "execution_count": 9,
   "metadata": {},
   "outputs": [
    {
     "data": {
      "image/png": "[encoded data removed]",
      "text/plain": [
       "<Figure size 720x360 with 1 Axes>"
      ]
     },
     "metadata": {},
     "output_type": "display_data"
    }
   ],
   "source": [
    "pivot = data[data.holiday=='normal'].pivot_table(index = ['ts_interaction_first'],\n",
    "                               columns = ['contact_channel_first'],\n",
    "                              aggfunc = 'mean',\n",
    "                              values=['converted'])\n",
    "#                               fill_value=0)\n",
    "pivot = pivot.resample('4D').mean()\n",
    "\n",
    "fig,ax = plt.subplots(figsize=(10,5))\n",
    "pivot.plot(ax=ax)\n",
    "ax.set_title('Conversion of initial guest contacts to bookings')\n",
    "ax.set_ylabel('Conversion %')\n",
    "ax.set_xlabel('Date of first interaction')\n",
    "ax.set_ylim(0,None)\n",
    "plt.show()"
   ]
  },
  {
   "cell_type": "markdown",
   "metadata": {},
   "source": [
    "Conversion rate does not appear to be time-dependent on the date of first interaction, when holidays are accounted for. (Note that there's a phantom increase due to the Rio Olympics if that data is included)\n",
    "\n",
    "Conversion of `book_it` is stagnant around 65%, while conversion of `contact_me` hovers between 10% and 20%."
   ]
  },
  {
   "cell_type": "code",
   "execution_count": 10,
   "metadata": {},
   "outputs": [
    {
     "data": {
      "image/png": "[encoded data removed]",
      "text/plain": [
       "<Figure size 720x360 with 1 Axes>"
      ]
     },
     "metadata": {},
     "output_type": "display_data"
    }
   ],
   "source": [
    "data_selection = data[data.holiday=='normal']\n",
    "crosstab = pd.crosstab(data_selection['ds_checkin_first'],data_selection['contact_channel_first'],\n",
    "                                        aggfunc = 'sum',\n",
    "                                        values=data['converted'],\n",
    "                                        normalize='index')\n",
    "crosstab = crosstab.resample('W').mean()\n",
    "\n",
    "fig,ax = plt.subplots(figsize=(10,5))\n",
    "# crosstab.plot.bar(stacked=True,ax=ax)\n",
    "plt.stackplot(crosstab.index,crosstab['contact_me'],crosstab['book_it'],crosstab['instant_book'], labels=['contact_me','book_it','instant_book'])\n",
    "ax.set_ylabel('% of bookings through contact method')\n",
    "ax.set_xlabel('Booking start date')\n",
    "ax.set_title('Percent of bookings originating through each contact channel')\n",
    "ax.set_ylim(0,None)\n",
    "ax.set_xlim('2016-01-01','2016-08-01')\n",
    "ax.legend()\n",
    "plt.show()"
   ]
  },
  {
   "cell_type": "markdown",
   "metadata": {},
   "source": [
    "While `contact_me` is driving the most message volume, it is not driving the most booking results. Over half of all bookings for the data available are coming from `instant_book`.\n",
    "\n",
    "**We need to improve conversion messages to bookings.**\n",
    "1. Incentivize users/hosts to user instant booking\n",
    "2. Need to convert better on holiday bookings"
   ]
  },
  {
   "cell_type": "markdown",
   "metadata": {},
   "source": [
    "# 1. User behavior with listings with/without instant booking"
   ]
  },
  {
   "cell_type": "code",
   "execution_count": 11,
   "metadata": {},
   "outputs": [],
   "source": [
    "# we can ascertain whether the listing has opted-in to IB\n",
    "sample = data[data.listing_booking_type_diff!=1]\n",
    "\n",
    "# we can ascertain whether the host has opted-in to IB\n",
    "sample = sample[sample.host_booking_type_diff!=1]\n",
    "\n",
    "# we can figure out the opt-in status of a message\n",
    "sample = sample[sample.host_booking_type!='-unknown-']\n",
    "\n",
    "sample = sample[sample.holiday=='normal'] # no holidays"
   ]
  },
  {
   "cell_type": "code",
   "execution_count": 12,
   "metadata": {},
   "outputs": [
    {
     "data": {
      "text/plain": [
       "instant_no     4933\n",
       "instant_yes    3477\n",
       "Name: host_booking_type, dtype: int64"
      ]
     },
     "execution_count": 12,
     "metadata": {},
     "output_type": "execute_result"
    }
   ],
   "source": [
    "# step 1: User finds listing. Does it have instant booking?\n",
    "sample.host_booking_type.value_counts()"
   ]
  },
  {
   "cell_type": "code",
   "execution_count": 13,
   "metadata": {},
   "outputs": [
    {
     "data": {
      "text/html": [
       "<div>\n",
       "<style scoped>\n",
       "    .dataframe tbody tr th:only-of-type {\n",
       "        vertical-align: middle;\n",
       "    }\n",
       "\n",
       "    .dataframe tbody tr th {\n",
       "        vertical-align: top;\n",
       "    }\n",
       "\n",
       "    .dataframe thead th {\n",
       "        text-align: right;\n",
       "    }\n",
       "</style>\n",
       "<table border=\"1\" class=\"dataframe\">\n",
       "  <thead>\n",
       "    <tr style=\"text-align: right;\">\n",
       "      <th>contact_channel_first</th>\n",
       "      <th>book_it</th>\n",
       "      <th>contact_me</th>\n",
       "      <th>instant_book</th>\n",
       "      <th>All</th>\n",
       "    </tr>\n",
       "    <tr>\n",
       "      <th>host_booking_type</th>\n",
       "      <th></th>\n",
       "      <th></th>\n",
       "      <th></th>\n",
       "      <th></th>\n",
       "    </tr>\n",
       "  </thead>\n",
       "  <tbody>\n",
       "    <tr>\n",
       "      <th>instant_no</th>\n",
       "      <td>3029.0</td>\n",
       "      <td>1904.0</td>\n",
       "      <td>NaN</td>\n",
       "      <td>4933</td>\n",
       "    </tr>\n",
       "    <tr>\n",
       "      <th>instant_yes</th>\n",
       "      <td>NaN</td>\n",
       "      <td>747.0</td>\n",
       "      <td>2730.0</td>\n",
       "      <td>3477</td>\n",
       "    </tr>\n",
       "    <tr>\n",
       "      <th>All</th>\n",
       "      <td>3029.0</td>\n",
       "      <td>2651.0</td>\n",
       "      <td>2730.0</td>\n",
       "      <td>8410</td>\n",
       "    </tr>\n",
       "  </tbody>\n",
       "</table>\n",
       "</div>"
      ],
      "text/plain": [
       "contact_channel_first  book_it  contact_me  instant_book   All\n",
       "host_booking_type                                             \n",
       "instant_no              3029.0      1904.0           NaN  4933\n",
       "instant_yes                NaN       747.0        2730.0  3477\n",
       "All                     3029.0      2651.0        2730.0  8410"
      ]
     },
     "execution_count": 13,
     "metadata": {},
     "output_type": "execute_result"
    }
   ],
   "source": [
    "# step 2: type of message sent?\n",
    "# toggle normalization to reproduce % on slide\n",
    "crosstab = pd.crosstab(sample.host_booking_type,\n",
    "                       sample.contact_channel_first,\n",
    "                       values=sample.converted,\n",
    "                       aggfunc='count',\n",
    "#                        normalize='index',\n",
    "                       margins=True)\n",
    "crosstab"
   ]
  },
  {
   "cell_type": "code",
   "execution_count": 14,
   "metadata": {},
   "outputs": [
    {
     "data": {
      "text/html": [
       "<div>\n",
       "<style scoped>\n",
       "    .dataframe tbody tr th:only-of-type {\n",
       "        vertical-align: middle;\n",
       "    }\n",
       "\n",
       "    .dataframe tbody tr th {\n",
       "        vertical-align: top;\n",
       "    }\n",
       "\n",
       "    .dataframe thead th {\n",
       "        text-align: right;\n",
       "    }\n",
       "</style>\n",
       "<table border=\"1\" class=\"dataframe\">\n",
       "  <thead>\n",
       "    <tr style=\"text-align: right;\">\n",
       "      <th>contact_channel_first</th>\n",
       "      <th>book_it</th>\n",
       "      <th>contact_me</th>\n",
       "      <th>instant_book</th>\n",
       "      <th>All</th>\n",
       "    </tr>\n",
       "    <tr>\n",
       "      <th>host_booking_type</th>\n",
       "      <th></th>\n",
       "      <th></th>\n",
       "      <th></th>\n",
       "      <th></th>\n",
       "    </tr>\n",
       "  </thead>\n",
       "  <tbody>\n",
       "    <tr>\n",
       "      <th>instant_no</th>\n",
       "      <td>1962.0</td>\n",
       "      <td>233.0</td>\n",
       "      <td>NaN</td>\n",
       "      <td>2195.0</td>\n",
       "    </tr>\n",
       "    <tr>\n",
       "      <th>instant_yes</th>\n",
       "      <td>NaN</td>\n",
       "      <td>80.0</td>\n",
       "      <td>2730.0</td>\n",
       "      <td>2810.0</td>\n",
       "    </tr>\n",
       "    <tr>\n",
       "      <th>All</th>\n",
       "      <td>1962.0</td>\n",
       "      <td>313.0</td>\n",
       "      <td>2730.0</td>\n",
       "      <td>5005.0</td>\n",
       "    </tr>\n",
       "  </tbody>\n",
       "</table>\n",
       "</div>"
      ],
      "text/plain": [
       "contact_channel_first  book_it  contact_me  instant_book     All\n",
       "host_booking_type                                               \n",
       "instant_no              1962.0       233.0           NaN  2195.0\n",
       "instant_yes                NaN        80.0        2730.0  2810.0\n",
       "All                     1962.0       313.0        2730.0  5005.0"
      ]
     },
     "execution_count": 14,
     "metadata": {},
     "output_type": "execute_result"
    }
   ],
   "source": [
    "# step 3: how many messages of each type converted?\n",
    "crosstab = pd.crosstab(sample.host_booking_type,\n",
    "                       sample.contact_channel_first,\n",
    "                       values=sample.converted,\n",
    "                       aggfunc='sum',\n",
    "                       margins=True)\n",
    "crosstab"
   ]
  },
  {
   "cell_type": "code",
   "execution_count": 15,
   "metadata": {},
   "outputs": [
    {
     "data": {
      "text/html": [
       "<div>\n",
       "<style scoped>\n",
       "    .dataframe tbody tr th:only-of-type {\n",
       "        vertical-align: middle;\n",
       "    }\n",
       "\n",
       "    .dataframe tbody tr th {\n",
       "        vertical-align: top;\n",
       "    }\n",
       "\n",
       "    .dataframe thead th {\n",
       "        text-align: right;\n",
       "    }\n",
       "</style>\n",
       "<table border=\"1\" class=\"dataframe\">\n",
       "  <thead>\n",
       "    <tr style=\"text-align: right;\">\n",
       "      <th>contact_channel_first</th>\n",
       "      <th>book_it</th>\n",
       "      <th>contact_me</th>\n",
       "      <th>instant_book</th>\n",
       "      <th>All</th>\n",
       "    </tr>\n",
       "    <tr>\n",
       "      <th>host_booking_type</th>\n",
       "      <th></th>\n",
       "      <th></th>\n",
       "      <th></th>\n",
       "      <th></th>\n",
       "    </tr>\n",
       "  </thead>\n",
       "  <tbody>\n",
       "    <tr>\n",
       "      <th>instant_no</th>\n",
       "      <td>0.647739</td>\n",
       "      <td>0.122374</td>\n",
       "      <td>NaN</td>\n",
       "      <td>0.444962</td>\n",
       "    </tr>\n",
       "    <tr>\n",
       "      <th>instant_yes</th>\n",
       "      <td>NaN</td>\n",
       "      <td>0.107095</td>\n",
       "      <td>1.0</td>\n",
       "      <td>0.808168</td>\n",
       "    </tr>\n",
       "    <tr>\n",
       "      <th>All</th>\n",
       "      <td>0.647739</td>\n",
       "      <td>0.118069</td>\n",
       "      <td>1.0</td>\n",
       "      <td>0.595125</td>\n",
       "    </tr>\n",
       "  </tbody>\n",
       "</table>\n",
       "</div>"
      ],
      "text/plain": [
       "contact_channel_first   book_it  contact_me  instant_book       All\n",
       "host_booking_type                                                  \n",
       "instant_no             0.647739    0.122374           NaN  0.444962\n",
       "instant_yes                 NaN    0.107095           1.0  0.808168\n",
       "All                    0.647739    0.118069           1.0  0.595125"
      ]
     },
     "execution_count": 15,
     "metadata": {},
     "output_type": "execute_result"
    }
   ],
   "source": [
    "# step 4: what was the conversion percentage?\n",
    "crosstab = pd.crosstab(sample.host_booking_type,\n",
    "                       sample.contact_channel_first,\n",
    "                       values=sample.converted,\n",
    "                       aggfunc='mean',\n",
    "                       margins=True)\n",
    "crosstab"
   ]
  },
  {
   "cell_type": "markdown",
   "metadata": {},
   "source": [
    "# 2. Looking at inquiry conversion by host booking type (instant booking accepted or not)"
   ]
  },
  {
   "cell_type": "code",
   "execution_count": 16,
   "metadata": {},
   "outputs": [
    {
     "data": {
      "image/png": "[encoded data removed]",
      "text/plain": [
       "<Figure size 432x432 with 1 Axes>"
      ]
     },
     "metadata": {},
     "output_type": "display_data"
    }
   ],
   "source": [
    "sample = data[data.listing_booking_type_diff!=1]\n",
    "\n",
    "grouped = sample[['holiday_bin','converted','host_booking_type']].groupby(['host_booking_type','holiday_bin']).mean().reset_index()\n",
    "\n",
    "fig,ax=plt.subplots(figsize=(6,6))\n",
    "sns.barplot(x=grouped.host_booking_type,y=grouped.converted,hue=grouped.holiday_bin,ax=ax)\n",
    "ax.set_ylabel('Conversion %')\n",
    "ax.set_xlabel('Booking type')\n",
    "ax.set_title(\"Conversion rate by listing's booking type\")\n",
    "plt.show()"
   ]
  },
  {
   "cell_type": "code",
   "execution_count": 17,
   "metadata": {},
   "outputs": [
    {
     "data": {
      "text/html": [
       "<div>\n",
       "<style scoped>\n",
       "    .dataframe tbody tr th:only-of-type {\n",
       "        vertical-align: middle;\n",
       "    }\n",
       "\n",
       "    .dataframe tbody tr th {\n",
       "        vertical-align: top;\n",
       "    }\n",
       "\n",
       "    .dataframe thead th {\n",
       "        text-align: right;\n",
       "    }\n",
       "</style>\n",
       "<table border=\"1\" class=\"dataframe\">\n",
       "  <thead>\n",
       "    <tr style=\"text-align: right;\">\n",
       "      <th></th>\n",
       "      <th>host_booking_type</th>\n",
       "      <th>holiday_bin</th>\n",
       "      <th>converted</th>\n",
       "    </tr>\n",
       "  </thead>\n",
       "  <tbody>\n",
       "    <tr>\n",
       "      <th>0</th>\n",
       "      <td>-unknown-</td>\n",
       "      <td>0.0</td>\n",
       "      <td>0.085202</td>\n",
       "    </tr>\n",
       "    <tr>\n",
       "      <th>1</th>\n",
       "      <td>-unknown-</td>\n",
       "      <td>1.0</td>\n",
       "      <td>0.050207</td>\n",
       "    </tr>\n",
       "    <tr>\n",
       "      <th>2</th>\n",
       "      <td>instant_no</td>\n",
       "      <td>0.0</td>\n",
       "      <td>0.444962</td>\n",
       "    </tr>\n",
       "    <tr>\n",
       "      <th>3</th>\n",
       "      <td>instant_no</td>\n",
       "      <td>1.0</td>\n",
       "      <td>0.156589</td>\n",
       "    </tr>\n",
       "    <tr>\n",
       "      <th>4</th>\n",
       "      <td>instant_yes</td>\n",
       "      <td>0.0</td>\n",
       "      <td>0.740928</td>\n",
       "    </tr>\n",
       "    <tr>\n",
       "      <th>5</th>\n",
       "      <td>instant_yes</td>\n",
       "      <td>1.0</td>\n",
       "      <td>0.606111</td>\n",
       "    </tr>\n",
       "  </tbody>\n",
       "</table>\n",
       "</div>"
      ],
      "text/plain": [
       "  host_booking_type  holiday_bin  converted\n",
       "0         -unknown-          0.0   0.085202\n",
       "1         -unknown-          1.0   0.050207\n",
       "2        instant_no          0.0   0.444962\n",
       "3        instant_no          1.0   0.156589\n",
       "4       instant_yes          0.0   0.740928\n",
       "5       instant_yes          1.0   0.606111"
      ]
     },
     "execution_count": 17,
     "metadata": {},
     "output_type": "execute_result"
    }
   ],
   "source": [
    "# output this to convert to powerpoint chart for presentation\n",
    "grouped"
   ]
  },
  {
   "cell_type": "markdown",
   "metadata": {},
   "source": [
    "# 3. Behavior of guests messaging multiple hosts; number of messages and conversion\n",
    "I'll calculate duplicate messages as those that were sent for the same target check-in week.\n",
    "\n",
    "This isn't perfect, but should be directionally correct.\n",
    "\n",
    "Apologies in advance to the reviewers-- the quickest way to get this data under a time crunch was the good old copy-paste-change method."
   ]
  },
  {
   "cell_type": "code",
   "execution_count": 18,
   "metadata": {},
   "outputs": [
    {
     "data": {
      "text/html": [
       "<div>\n",
       "<style scoped>\n",
       "    .dataframe tbody tr th:only-of-type {\n",
       "        vertical-align: middle;\n",
       "    }\n",
       "\n",
       "    .dataframe tbody tr th {\n",
       "        vertical-align: top;\n",
       "    }\n",
       "\n",
       "    .dataframe thead th {\n",
       "        text-align: right;\n",
       "    }\n",
       "</style>\n",
       "<table border=\"1\" class=\"dataframe\">\n",
       "  <thead>\n",
       "    <tr style=\"text-align: right;\">\n",
       "      <th>holiday_bin</th>\n",
       "      <th>0.0</th>\n",
       "      <th>1.0</th>\n",
       "    </tr>\n",
       "    <tr>\n",
       "      <th>guest_user_stage_first</th>\n",
       "      <th></th>\n",
       "      <th></th>\n",
       "    </tr>\n",
       "  </thead>\n",
       "  <tbody>\n",
       "    <tr>\n",
       "      <th>new</th>\n",
       "      <td>6823</td>\n",
       "      <td>8276</td>\n",
       "    </tr>\n",
       "    <tr>\n",
       "      <th>past_booker</th>\n",
       "      <td>6612</td>\n",
       "      <td>4741</td>\n",
       "    </tr>\n",
       "  </tbody>\n",
       "</table>\n",
       "</div>"
      ],
      "text/plain": [
       "holiday_bin              0.0   1.0\n",
       "guest_user_stage_first            \n",
       "new                     6823  8276\n",
       "past_booker             6612  4741"
      ]
     },
     "execution_count": 18,
     "metadata": {},
     "output_type": "execute_result"
    }
   ],
   "source": [
    "# get raw number of guest by: new/prior, holiday/non\n",
    "crosstab = pd.crosstab(data.guest_user_stage_first,data.holiday_bin)\n",
    "crosstab"
   ]
  },
  {
   "cell_type": "markdown",
   "metadata": {},
   "source": [
    "I want to get the number of potential guests reaching out to duplicates by:\n",
    "* New/Previous-booker\n",
    "* Holidays/non-holiday"
   ]
  },
  {
   "cell_type": "code",
   "execution_count": 37,
   "metadata": {
    "scrolled": false
   },
   "outputs": [
    {
     "name": "stdout",
     "output_type": "stream",
     "text": [
      "Number of users sending multiple messages: 386\n",
      "Average # of messages sent: 2.2487046632124352\n"
     ]
    }
   ],
   "source": [
    "# non-holiday, new booker sending duplicate messages\n",
    "sample = data[data.holiday=='normal']\n",
    "sample = sample[sample.guest_user_stage_first=='new']\n",
    "\n",
    "pivot = sample.pivot_table(index=['ds_checkin_first'],\n",
    "                            columns=['id_guest_anon'],\n",
    "                             values=['m_interactions'],\n",
    "                             aggfunc = 'count')\n",
    "pivot = pivot.resample('W').sum()\n",
    "\n",
    "# find max number of messages sent per ID, count user ids with more than one max message in a target week\n",
    "users = sum(np.amax(pivot.values,axis=0)>1)\n",
    "avg_messages = np.mean(np.amax(pivot.values,axis=0)[np.amax(pivot.values,axis=0)>1])\n",
    "print('Number of users sending multiple messages: '+ str(users))\n",
    "print('Average # of messages sent: '+ str(avg_messages))"
   ]
  },
  {
   "cell_type": "code",
   "execution_count": 38,
   "metadata": {},
   "outputs": [
    {
     "name": "stdout",
     "output_type": "stream",
     "text": [
      "Number of users sending multiple messages: 358\n",
      "Average # of messages sent: 2.170391061452514\n"
     ]
    }
   ],
   "source": [
    "# non-holiday, previous booker sending duplicate messages\n",
    "sample = data[data.holiday=='normal']\n",
    "sample = sample[sample.guest_user_stage_first=='past_booker']\n",
    "\n",
    "pivot = sample.pivot_table(index=['ds_checkin_first'],\n",
    "                            columns=['id_guest_anon'],\n",
    "                             values=['m_interactions'],\n",
    "                             aggfunc = 'count')\n",
    "pivot = pivot.resample('W').sum()\n",
    "\n",
    "# find max number of messages sent per ID, count user ids with more than one max message in a target week\n",
    "users = sum(np.amax(pivot.values,axis=0)>1)\n",
    "avg_messages = np.mean(np.amax(pivot.values,axis=0)[np.amax(pivot.values,axis=0)>1])\n",
    "print('Number of users sending multiple messages: '+ str(users))\n",
    "print('Average # of messages sent: '+ str(avg_messages))"
   ]
  },
  {
   "cell_type": "code",
   "execution_count": 39,
   "metadata": {},
   "outputs": [
    {
     "name": "stdout",
     "output_type": "stream",
     "text": [
      "Number of users sending multiple messages: 1210\n",
      "Average # of messages sent: 2.3900826446280994\n"
     ]
    }
   ],
   "source": [
    "# holiday, previous booker sending duplicate messages\n",
    "sample = data[data.holiday!='normal']\n",
    "sample = sample[sample.guest_user_stage_first=='new']\n",
    "\n",
    "pivot = sample.pivot_table(index=['ds_checkin_first'],\n",
    "                            columns=['id_guest_anon'],\n",
    "                             values=['m_interactions'],\n",
    "                             aggfunc = 'count')\n",
    "pivot = pivot.resample('W').sum()\n",
    "\n",
    "# find max number of messages sent per ID, count user ids with more than one max message in a target week\n",
    "users = sum(np.amax(pivot.values,axis=0)>1)\n",
    "avg_messages = np.mean(np.amax(pivot.values,axis=0)[np.amax(pivot.values,axis=0)>1])\n",
    "print('Number of users sending multiple messages: '+ str(users))\n",
    "print('Average # of messages sent: '+ str(avg_messages))"
   ]
  },
  {
   "cell_type": "code",
   "execution_count": 40,
   "metadata": {},
   "outputs": [
    {
     "name": "stdout",
     "output_type": "stream",
     "text": [
      "Number of users sending multiple messages: 785\n",
      "Average # of messages sent: 2.3961783439490447\n"
     ]
    }
   ],
   "source": [
    "# holiday, previous bookers sending duplicate messages\n",
    "sample = data[data.holiday!='normal']\n",
    "sample = sample[sample.guest_user_stage_first=='past_booker']\n",
    "\n",
    "pivot = sample.pivot_table(index=['ds_checkin_first'],\n",
    "                            columns=['id_guest_anon'],\n",
    "                             values=['m_interactions'],\n",
    "                             aggfunc = 'count')\n",
    "pivot = pivot.resample('W').sum()\n",
    "\n",
    "# find max number of messages sent per ID, count user ids with more than one max message in a target week\n",
    "users = sum(np.amax(pivot.values,axis=0)>1)\n",
    "avg_messages = np.mean(np.amax(pivot.values,axis=0)[np.amax(pivot.values,axis=0)>1])\n",
    "print('Number of users sending multiple messages: '+ str(users))\n",
    "print('Average # of messages sent: '+ str(avg_messages))"
   ]
  },
  {
   "cell_type": "markdown",
   "metadata": {},
   "source": [
    "### A brief intermission to break up the blocks of copy pasta.\n",
    "Next, I want to look at conversion of these same guests by holiday/non."
   ]
  },
  {
   "cell_type": "code",
   "execution_count": 41,
   "metadata": {},
   "outputs": [
    {
     "name": "stdout",
     "output_type": "stream",
     "text": [
      "Number of users sending multiple messages: 1604\n",
      "Average # of messages sent: 2.4183291770573567\n"
     ]
    }
   ],
   "source": [
    "# holiday, non-converted users sending duplicate messages\n",
    "sample = data[data.converted==0]\n",
    "sample = sample[sample.holiday!='normal']\n",
    "\n",
    "pivot = sample.pivot_table(index=['ds_checkin_first'],\n",
    "                         columns=['id_guest_anon'],\n",
    "                         values=['m_interactions'],\n",
    "                         aggfunc = 'count'\n",
    "                        )\n",
    "pivot = pivot.resample('W').sum()\n",
    "\n",
    "# find max number of messages sent per ID, count user ids with more than one max message in a target week\n",
    "users = sum(np.amax(pivot.values,axis=0)>1)\n",
    "avg_messages = np.mean(np.amax(pivot.values,axis=0)[np.amax(pivot.values,axis=0)>1])\n",
    "print('Number of users sending multiple messages: '+ str(users))\n",
    "print('Average # of messages sent: '+ str(avg_messages))"
   ]
  },
  {
   "cell_type": "code",
   "execution_count": 42,
   "metadata": {},
   "outputs": [
    {
     "name": "stdout",
     "output_type": "stream",
     "text": [
      "Number of users sending multiple messages: 440\n",
      "Average # of messages sent: 2.2954545454545454\n"
     ]
    }
   ],
   "source": [
    "# non-holiday, non-converted users sending duplicate messages\n",
    "sample = data[data.converted==0]\n",
    "sample = sample[sample.holiday=='normal']\n",
    "\n",
    "pivot = sample.pivot_table(index=['ds_checkin_first'],\n",
    "                         columns=['id_guest_anon'],\n",
    "                         values=['m_interactions'],\n",
    "                         aggfunc = 'count'\n",
    "                        )\n",
    "pivot = pivot.resample('W').sum()\n",
    "\n",
    "# find max number of messages sent per ID, count user ids with more than one max message in a target week\n",
    "users = sum(np.amax(pivot.values,axis=0)>1)\n",
    "avg_messages = np.mean(np.amax(pivot.values,axis=0)[np.amax(pivot.values,axis=0)>1])\n",
    "print('Number of users sending multiple messages: '+ str(users))\n",
    "print('Average # of messages sent: '+ str(avg_messages))"
   ]
  },
  {
   "cell_type": "code",
   "execution_count": 43,
   "metadata": {},
   "outputs": [
    {
     "name": "stdout",
     "output_type": "stream",
     "text": [
      "Number of users sending multiple messages: 120\n",
      "Average # of messages sent: 2.1\n"
     ]
    }
   ],
   "source": [
    "# holiday, converted users sending duplicate messages\n",
    "sample = data[data.converted==1]\n",
    "sample = sample[sample.holiday!='normal']\n",
    "\n",
    "pivot = sample.pivot_table(index=['ds_checkin_first'],\n",
    "                         columns=['id_guest_anon'],\n",
    "                         values=['m_interactions'],\n",
    "                         aggfunc = 'count'\n",
    "                        )\n",
    "pivot = pivot.resample('W').sum()\n",
    "\n",
    "# find max number of messages sent per ID, count user ids with more than one max message in a target week\n",
    "users = sum(np.amax(pivot.values,axis=0)>1)\n",
    "avg_messages = np.mean(np.amax(pivot.values,axis=0)[np.amax(pivot.values,axis=0)>1])\n",
    "print('Number of users sending multiple messages: '+ str(users))\n",
    "print('Average # of messages sent: '+ str(avg_messages))"
   ]
  },
  {
   "cell_type": "code",
   "execution_count": 44,
   "metadata": {},
   "outputs": [
    {
     "name": "stdout",
     "output_type": "stream",
     "text": [
      "Number of users sending multiple messages: 102\n",
      "Average # of messages sent: 2.0392156862745097\n"
     ]
    }
   ],
   "source": [
    "# non-holiday, converted users sending duplicate messages\n",
    "sample = data[data.converted==1]\n",
    "sample = sample[sample.holiday=='normal']\n",
    "\n",
    "pivot = sample.pivot_table(index=['ds_checkin_first'],\n",
    "                         columns=['id_guest_anon'],\n",
    "                         values=['m_interactions'],\n",
    "                         aggfunc = 'count'\n",
    "                        )\n",
    "pivot = pivot.resample('W').sum()\n",
    "\n",
    "# find max number of messages sent per ID, count user ids with more than one max message in a target week\n",
    "users = sum(np.amax(pivot.values,axis=0)>1)\n",
    "avg_messages = np.mean(np.amax(pivot.values,axis=0)[np.amax(pivot.values,axis=0)>1])\n",
    "print('Number of users sending multiple messages: '+ str(users))\n",
    "print('Average # of messages sent: '+ str(avg_messages))"
   ]
  },
  {
   "cell_type": "markdown",
   "metadata": {},
   "source": [
    "### Another intermission.\n",
    "Now I need to look at guest who did *not* send multiple messages for my control."
   ]
  },
  {
   "cell_type": "code",
   "execution_count": 45,
   "metadata": {},
   "outputs": [
    {
     "name": "stdout",
     "output_type": "stream",
     "text": [
      "Number of users sending only one listing a message: 5685\n"
     ]
    }
   ],
   "source": [
    "# holiday, non-converted users NOT sending duplicate messages\n",
    "sample = data[data.converted==0]\n",
    "sample = sample[sample.holiday!='normal']\n",
    "\n",
    "pivot = sample.pivot_table(index=['ds_checkin_first'],\n",
    "                         columns=['id_guest_anon'],\n",
    "                         values=['m_interactions'],\n",
    "                         aggfunc = 'count'\n",
    "                        )\n",
    "pivot = pivot.resample('W').sum()\n",
    "\n",
    "# find max number of messages sent per ID, count user ids with no more than one max message in a target week\n",
    "users = sum(np.amax(pivot.values,axis=0)==1)\n",
    "print('Number of users sending only one listing a message: '+ str(users))"
   ]
  },
  {
   "cell_type": "code",
   "execution_count": 46,
   "metadata": {},
   "outputs": [
    {
     "name": "stdout",
     "output_type": "stream",
     "text": [
      "Number of users sending only one listing a message: 4413\n"
     ]
    }
   ],
   "source": [
    "# non-holiday, non-converted users NOT sending duplicate messages\n",
    "sample = data[data.converted==0]\n",
    "sample = sample[sample.holiday=='normal']\n",
    "\n",
    "pivot = sample.pivot_table(index=['ds_checkin_first'],\n",
    "                         columns=['id_guest_anon'],\n",
    "                         values=['m_interactions'],\n",
    "                         aggfunc = 'count'\n",
    "                        )\n",
    "pivot = pivot.resample('W').sum()\n",
    "\n",
    "# find max number of messages sent per ID, count user ids with no more than one max message in a target week\n",
    "users = sum(np.amax(pivot.values,axis=0)==1)\n",
    "print('Number of users sending only one listing a message: '+ str(users))"
   ]
  },
  {
   "cell_type": "code",
   "execution_count": 47,
   "metadata": {},
   "outputs": [
    {
     "name": "stdout",
     "output_type": "stream",
     "text": [
      "Number of users sending only one listing a message: 3043\n"
     ]
    }
   ],
   "source": [
    "# holiday, converted users NOT sending duplicate messages\n",
    "sample = data[data.converted==1]\n",
    "sample = sample[sample.holiday!='normal']\n",
    "\n",
    "pivot = sample.pivot_table(index=['ds_checkin_first'],\n",
    "                         columns=['id_guest_anon'],\n",
    "                         values=['m_interactions'],\n",
    "                         aggfunc = 'count'\n",
    "                        )\n",
    "pivot = pivot.resample('W').sum()\n",
    "\n",
    "# find max number of messages sent per ID, count user ids with no more than one max message in a target week\n",
    "users = sum(np.amax(pivot.values,axis=0)==1)\n",
    "print('Number of users sending only one listing a message: '+ str(users))"
   ]
  },
  {
   "cell_type": "code",
   "execution_count": 48,
   "metadata": {},
   "outputs": [
    {
     "name": "stdout",
     "output_type": "stream",
     "text": [
      "Number of users sending only one listing a message: 7363\n"
     ]
    }
   ],
   "source": [
    "# non-holiday, converted users NOT sending duplicate messages\n",
    "sample = data[data.converted==1]\n",
    "sample = sample[sample.holiday=='normal']\n",
    "\n",
    "pivot = sample.pivot_table(index=['ds_checkin_first'],\n",
    "                         columns=['id_guest_anon'],\n",
    "                         values=['m_interactions'],\n",
    "                         aggfunc = 'count'\n",
    "                        )\n",
    "pivot = pivot.resample('W').sum()\n",
    "\n",
    "# find max number of messages sent per ID, count user ids with no more than one max message in a target week\n",
    "users = sum(np.amax(pivot.values,axis=0)==1)\n",
    "print('Number of users sending only one listing a message: '+ str(users))"
   ]
  },
  {
   "cell_type": "markdown",
   "metadata": {},
   "source": [
    "A good metric would be reducing the number of messages sent for the same booking window. This would be a direct measure of the improved fit.\n",
    "\n",
    "This could be (message inquiries for checkin date)/(booking for checkin date).\n",
    "\n",
    "Many more un-converted users are the ones sending multiple messages. If we notice a user sending multiple messages, that could be a flag for us to \"sweeten the pot\". "
   ]
  },
  {
   "cell_type": "markdown",
   "metadata": {},
   "source": [
    "# 4. Market activity (bookings and inquiries), holiday and non-holiday"
   ]
  },
  {
   "cell_type": "markdown",
   "metadata": {},
   "source": [
    "We should definitely not consider the Olympics in this-- that was a one-off case. Additionally, we're probably not accounting perfectly for Carnival, since it happened so soon after the start of this data set."
   ]
  },
  {
   "cell_type": "code",
   "execution_count": 31,
   "metadata": {},
   "outputs": [],
   "source": [
    "# number of messages\n",
    "inquiries = data.holiday.value_counts()\n",
    "\n",
    "# number of bookings\n",
    "bookings = data[data.converted==1].holiday.value_counts()"
   ]
  },
  {
   "cell_type": "code",
   "execution_count": 32,
   "metadata": {},
   "outputs": [
    {
     "data": {
      "text/plain": [
       "normal      13435\n",
       "olympics     9766\n",
       "carnival     3251\n",
       "Name: holiday, dtype: int64"
      ]
     },
     "execution_count": 32,
     "metadata": {},
     "output_type": "execute_result"
    }
   ],
   "source": [
    "inquiries"
   ]
  },
  {
   "cell_type": "code",
   "execution_count": 33,
   "metadata": {},
   "outputs": [
    {
     "data": {
      "text/plain": [
       "normal      7846\n",
       "olympics    2799\n",
       "carnival     540\n",
       "Name: holiday, dtype: int64"
      ]
     },
     "execution_count": 33,
     "metadata": {},
     "output_type": "execute_result"
    }
   ],
   "source": [
    "bookings"
   ]
  },
  {
   "cell_type": "markdown",
   "metadata": {},
   "source": [
    "# 5. Holidays reduce host likeliness to accept bookings"
   ]
  },
  {
   "cell_type": "code",
   "execution_count": 34,
   "metadata": {
    "scrolled": false
   },
   "outputs": [
    {
     "data": {
      "text/plain": [
       "<matplotlib.axes._subplots.AxesSubplot at 0x10bbcf358>"
      ]
     },
     "execution_count": 34,
     "metadata": {},
     "output_type": "execute_result"
    },
    {
     "data": {
      "image/png": "[encoded data removed]",
      "text/plain": [
       "<Figure size 432x288 with 1 Axes>"
      ]
     },
     "metadata": {},
     "output_type": "display_data"
    }
   ],
   "source": [
    "# number of responses by host_reponse, grouped by holiday/not\n",
    "# remove instant booking, since those are automatically accepted by the host\n",
    "sample = data[data.contact_channel_first!='instant_book']\n",
    "\n",
    "pivot = sample.pivot_table(index=['host_response'],\n",
    "                        columns=['holiday_bin'],\n",
    "                         values=['converted'],\n",
    "                        aggfunc='count')\n",
    "pivot.transpose().plot.bar()"
   ]
  },
  {
   "cell_type": "markdown",
   "metadata": {},
   "source": [
    "Hosts are MUCH less likely to accept requests to book during holidays. (During the holidays-- Rio or Carnival-- is 1, while not is 0).\n",
    "\n",
    "Below, I'm going to output the values of that pivot table for plotting in the presentation."
   ]
  },
  {
   "cell_type": "code",
   "execution_count": 35,
   "metadata": {},
   "outputs": [
    {
     "data": {
      "text/html": [
       "<div>\n",
       "<style scoped>\n",
       "    .dataframe tbody tr th:only-of-type {\n",
       "        vertical-align: middle;\n",
       "    }\n",
       "\n",
       "    .dataframe tbody tr th {\n",
       "        vertical-align: top;\n",
       "    }\n",
       "\n",
       "    .dataframe thead tr th {\n",
       "        text-align: left;\n",
       "    }\n",
       "\n",
       "    .dataframe thead tr:last-of-type th {\n",
       "        text-align: right;\n",
       "    }\n",
       "</style>\n",
       "<table border=\"1\" class=\"dataframe\">\n",
       "  <thead>\n",
       "    <tr>\n",
       "      <th></th>\n",
       "      <th colspan=\"2\" halign=\"left\">converted</th>\n",
       "    </tr>\n",
       "    <tr>\n",
       "      <th>holiday_bin</th>\n",
       "      <th>0.0</th>\n",
       "      <th>1.0</th>\n",
       "    </tr>\n",
       "    <tr>\n",
       "      <th>host_response</th>\n",
       "      <th></th>\n",
       "      <th></th>\n",
       "    </tr>\n",
       "  </thead>\n",
       "  <tbody>\n",
       "    <tr>\n",
       "      <th>host_accepts</th>\n",
       "      <td>5546</td>\n",
       "      <td>3528</td>\n",
       "    </tr>\n",
       "    <tr>\n",
       "      <th>host_denies</th>\n",
       "      <td>2810</td>\n",
       "      <td>6109</td>\n",
       "    </tr>\n",
       "    <tr>\n",
       "      <th>host_ignores</th>\n",
       "      <td>520</td>\n",
       "      <td>1449</td>\n",
       "    </tr>\n",
       "  </tbody>\n",
       "</table>\n",
       "</div>"
      ],
      "text/plain": [
       "              converted      \n",
       "holiday_bin         0.0   1.0\n",
       "host_response                \n",
       "host_accepts       5546  3528\n",
       "host_denies        2810  6109\n",
       "host_ignores        520  1449"
      ]
     },
     "execution_count": 35,
     "metadata": {},
     "output_type": "execute_result"
    }
   ],
   "source": [
    "pivot"
   ]
  },
  {
   "cell_type": "markdown",
   "metadata": {},
   "source": [
    "It's worth noting that guests are part of the problem. During holiday periods, guests are more likely to ignore a booking acceptance than book afterwards! That's pretty nutty."
   ]
  },
  {
   "cell_type": "code",
   "execution_count": 36,
   "metadata": {
    "scrolled": true
   },
   "outputs": [
    {
     "data": {
      "text/plain": [
       "<matplotlib.axes._subplots.AxesSubplot at 0x10b277860>"
      ]
     },
     "execution_count": 36,
     "metadata": {},
     "output_type": "execute_result"
    },
    {
     "data": {
      "image/png": "[encoded data removed]",
      "text/plain": [
       "<Figure size 432x288 with 1 Axes>"
      ]
     },
     "metadata": {},
     "output_type": "display_data"
    }
   ],
   "source": [
    "# number of responses by guest_reponse, grouped by holiday/none\n",
    "# remove instant booking, since those are automatically accepted by the host\n",
    "sample = data[data.contact_channel_first!='instant_book']\n",
    "# screen for just where the host has accepted\n",
    "sample = sample[sample.host_response=='host_accepts']\n",
    "\n",
    "pivot = sample.pivot_table(index=['guest_response'],\n",
    "                        columns=['holiday_bin'],\n",
    "                         values=['converted'],\n",
    "                        aggfunc='count')\n",
    "pivot.transpose().plot.bar()"
   ]
  }
 ],
 "metadata": {
  "kernelspec": {
   "display_name": "Python 3",
   "language": "python",
   "name": "python3"
  },
  "language_info": {
   "codemirror_mode": {
    "name": "ipython",
    "version": 3
   },
   "file_extension": ".py",
   "mimetype": "text/x-python",
   "name": "python",
   "nbconvert_exporter": "python",
   "pygments_lexer": "ipython3",
   "version": "3.6.7"
  }
 },
 "nbformat": 4,
 "nbformat_minor": 2
}
